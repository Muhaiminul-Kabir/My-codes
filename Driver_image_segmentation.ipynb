{
  "cells": [
    {
      "cell_type": "markdown",
      "metadata": {
        "id": "view-in-github",
        "colab_type": "text"
      },
      "source": [
        "<a href=\"https://colab.research.google.com/github/Muhaiminul-Kabir/My-codes/blob/main/Driver_image_segmentation.ipynb\" target=\"_parent\"><img src=\"https://colab.research.google.com/assets/colab-badge.svg\" alt=\"Open In Colab\"/></a>"
      ]
    },
    {
      "cell_type": "markdown",
      "source": [
        "#GPU info"
      ],
      "metadata": {
        "id": "IHcfSqFynz3D"
      }
    },
    {
      "cell_type": "code",
      "source": [
        "!mkdir crop"
      ],
      "metadata": {
        "id": "nfuA65ZjiXVy"
      },
      "execution_count": null,
      "outputs": []
    },
    {
      "cell_type": "code",
      "execution_count": null,
      "metadata": {
        "id": "_IuS4u9NeDoV"
      },
      "outputs": [],
      "source": [
        "!nvidia-smi"
      ]
    },
    {
      "cell_type": "markdown",
      "source": [
        "# Drive Mount"
      ],
      "metadata": {
        "id": "aPzRiU1wmFi9"
      }
    },
    {
      "cell_type": "code",
      "source": [
        "from google.colab import drive\n",
        "drive.mount('/content/drive')"
      ],
      "metadata": {
        "id": "T_DFjoLBUNaD"
      },
      "execution_count": null,
      "outputs": []
    },
    {
      "cell_type": "markdown",
      "source": [
        "#OS"
      ],
      "metadata": {
        "id": "8NmbV4ZNoKgp"
      }
    },
    {
      "cell_type": "code",
      "execution_count": null,
      "metadata": {
        "id": "92mBlrpDeUCT"
      },
      "outputs": [],
      "source": [
        "import os\n",
        "HOME = os.getcwd()\n",
        "HOME"
      ]
    },
    {
      "cell_type": "markdown",
      "source": [
        "#Installing Ultralytics"
      ],
      "metadata": {
        "id": "ziEGIMkhoOYw"
      }
    },
    {
      "cell_type": "code",
      "execution_count": null,
      "metadata": {
        "id": "qYzAT2-5esle"
      },
      "outputs": [],
      "source": [
        "!pip install ultralytics"
      ]
    },
    {
      "cell_type": "code",
      "source": [
        "from IPython import display\n",
        "import cv2 as cv\n",
        "import matplotlib.pyplot as plt\n",
        "import math\n",
        "import numpy as np\n",
        "from PIL import Image\n",
        "from ultralytics import YOLO\n",
        "from IPython.display import display, Image,clear_output"
      ],
      "metadata": {
        "id": "E4MceLkJb2fC"
      },
      "execution_count": null,
      "outputs": []
    },
    {
      "cell_type": "markdown",
      "source": [
        "#Video to frames"
      ],
      "metadata": {
        "id": "DeiUdU69J3d_"
      }
    },
    {
      "cell_type": "markdown",
      "source": [
        "#Cropping person/driver"
      ],
      "metadata": {
        "id": "dw7DDVnBpHjb"
      }
    },
    {
      "cell_type": "code",
      "source": [
        "def crop_driver(path,newp):\n",
        "  model = YOLO(f'{HOME}/yolov8x-seg.pt')\n",
        "  results = model.predict(source = path, save=True, save_txt=True,classes=[2,7])\n",
        "  result = results[0]\n",
        "  try:\n",
        "    seg = result.masks[0]\n",
        "  except:\n",
        "    print(\"Aborting process...\")\n",
        "    return\n",
        "  vehicle_seg_pts = []\n",
        "  seg_pts = []\n",
        "\n",
        "  for i in result.masks:\n",
        "    print(len(i.xy[0]))\n",
        "    seg_pts.append(len(i.xy[0]))\n",
        "\n",
        "  maxw = max(seg_pts)\n",
        "\n",
        "\n",
        "  for i in result.masks:\n",
        "\n",
        "    if len(i.xy[0]) == maxw:\n",
        "      vehicle_seg_pts.append(i.xy[0])\n",
        "\n",
        "  print(f\" no of vehicle segmentation coordinates -> {vehicle_seg_pts}\")\n",
        "\n",
        "  npath = crop_seg(path,vehicle_seg_pts)\n",
        "\n",
        "  if npath :\n",
        "    detect_driver_crop(npath,model)\n",
        "  else:\n",
        "    return\n",
        "\n",
        "\n"
      ],
      "metadata": {
        "id": "iE-pvYSRELA4"
      },
      "execution_count": null,
      "outputs": []
    },
    {
      "cell_type": "markdown",
      "source": [
        "#Croping a segment"
      ],
      "metadata": {
        "id": "PnUTCJfb9_F1"
      }
    },
    {
      "cell_type": "code",
      "source": [
        "def crop_seg(path,vehicle_seg_pts):\n",
        "  img  = cv.imread(path)\n",
        "\n",
        "  pts = np.array(vehicle_seg_pts[0])\n",
        "\n",
        "  rect = cv.boundingRect(pts)\n",
        "  x,y,w,h = rect\n",
        "  croped = img[y:y+h, x:x+w].copy()\n",
        "\n",
        "  pts = pts - pts.min(axis=0)\n",
        "\n",
        "  np.ceil(pts)\n",
        "  print(f\"segments co ordinates -> {pts}\")\n",
        "  mask = np.zeros(croped.shape[:2], np.uint8)\n",
        "  cv.drawContours(mask, [pts.astype(int)], -1, (255, 255, 255), -1, cv.LINE_AA)\n",
        "\n",
        "  dst = cv.bitwise_and(croped, croped, mask=mask)\n",
        "\n",
        "  bg = np.ones_like(croped, np.uint8)*255\n",
        "  cv.bitwise_not(bg,bg, mask=mask)\n",
        "  dst2 = bg+ dst\n",
        "\n",
        "\n",
        "  cv.imwrite(\"/content/dst2.png\", dst2)\n",
        "  return \"/content/dst2.png\""
      ],
      "metadata": {
        "id": "wBwN48K9y0sj"
      },
      "execution_count": null,
      "outputs": []
    },
    {
      "cell_type": "markdown",
      "source": [
        "#Driver detection and croping"
      ],
      "metadata": {
        "id": "OILIbidn-C93"
      }
    },
    {
      "cell_type": "code",
      "source": [
        "def detect_driver_crop(npath,model):\n",
        "  results1 = model.predict(source = npath, save=True, save_txt=True,classes=[0])\n",
        "\n",
        "  result2 = results1[0]\n",
        "\n",
        "\n",
        "  person_cords = []\n",
        "  person_a = []\n",
        "\n",
        "  for i in result2.boxes:\n",
        "    print(i.xyxy.tolist())\n",
        "    _,_,w,h = i.xywh[0].tolist()\n",
        "    _,_,_,y2 = i.xyxy[0].tolist()\n",
        "    person_a.append(w*h)\n",
        "  print(f'jdks {person_a}')\n",
        "  if len(person_a) < 1:\n",
        "    print('No driver in the image...')\n",
        "    return\n",
        "  maxw = max(person_a)\n",
        "\n",
        "\n",
        "  for i in result2.boxes:\n",
        "    print(i.xyxy.tolist())\n",
        "    _,_,w,h = i.xywh[0].tolist()\n",
        "    if w*h == maxw:\n",
        "      person_cords.append(i.xyxy[0].tolist())\n",
        "\n",
        "  print(person_cords)\n",
        "\n",
        "  x1,y1,x2,y2 = person_cords[0]\n",
        "\n",
        "  x1 = math.floor(x1)\n",
        "  y1 = math.floor(y1)\n",
        "  x2 = math.ceil(x2)\n",
        "  y2 = math.ceil(y2)\n",
        "\n",
        "\n",
        "  img  = cv.imread(npath)\n",
        "  print(y2)\n",
        "  if y2 < 2000:\n",
        "    y2 += 300\n",
        "  if x2 < 2000:\n",
        "    x2 += 300\n",
        "  print(img.shape)\n",
        "  img = img[y1:y2,x1:x2]\n",
        "  print('Driver detected...')\n",
        "  cv.imwrite(f\"{newp}\", img)\n",
        "  plt.imshow(img)\n",
        "\n"
      ],
      "metadata": {
        "id": "pHWXbp04X8if"
      },
      "execution_count": null,
      "outputs": []
    },
    {
      "cell_type": "markdown",
      "source": [
        "#Path set and start process"
      ],
      "metadata": {
        "id": "dsQ_tI1CoapY"
      }
    },
    {
      "cell_type": "code",
      "source": [
        "dir = '/content/drive/MyDrive/DATASET/imbalanced dataset/'\n",
        "lvl = ['one hand out','one hand driving','looking outside','using phone', 'safe driving ', 'hair and makeup']"
      ],
      "metadata": {
        "id": "_6bN42Ull7r6"
      },
      "execution_count": null,
      "outputs": []
    },
    {
      "cell_type": "code",
      "source": [
        "cnt = 0\n",
        "for l in lvl:\n",
        "    fld = os.path.join(dir,l)\n",
        "\n",
        "    print(fld)\n",
        "    yes = 0\n",
        "    for img in os.listdir(fld):\n",
        "        path = os.path.join(fld,img)\n",
        "        x = path.split('/')\n",
        "        label = x[6]\n",
        "        name = x[7]\n",
        "        nd = f'/content/crop/{label}'\n",
        "\n",
        "        newp = f'{nd}/{name}'\n",
        "        if yes == 0 :\n",
        "          os.mkdir(nd)\n",
        "          yes = 1\n",
        "\n",
        "\n",
        "        crop_driver(path,newp)\n",
        "        cnt+=1\n",
        "        print(f'Data no -> {cnt}')\n",
        "\n",
        "\n"
      ],
      "metadata": {
        "id": "2tihxFc_lIHQ"
      },
      "execution_count": null,
      "outputs": []
    },
    {
      "cell_type": "markdown",
      "source": [
        "#Download folders"
      ],
      "metadata": {
        "id": "tXSt_w-NAr67"
      }
    },
    {
      "cell_type": "code",
      "source": [
        "from google.colab import files\n",
        "\n",
        "files.download('/content/crop/')"
      ],
      "metadata": {
        "id": "x1kniwDbAu9C",
        "outputId": "8ae2a6a6-89da-45dc-a632-4de1f091d252",
        "colab": {
          "base_uri": "https://localhost:8080/",
          "height": 34
        }
      },
      "execution_count": null,
      "outputs": [
        {
          "output_type": "display_data",
          "data": {
            "text/plain": [
              "<IPython.core.display.Javascript object>"
            ],
            "application/javascript": [
              "\n",
              "    async function download(id, filename, size) {\n",
              "      if (!google.colab.kernel.accessAllowed) {\n",
              "        return;\n",
              "      }\n",
              "      const div = document.createElement('div');\n",
              "      const label = document.createElement('label');\n",
              "      label.textContent = `Downloading \"${filename}\": `;\n",
              "      div.appendChild(label);\n",
              "      const progress = document.createElement('progress');\n",
              "      progress.max = size;\n",
              "      div.appendChild(progress);\n",
              "      document.body.appendChild(div);\n",
              "\n",
              "      const buffers = [];\n",
              "      let downloaded = 0;\n",
              "\n",
              "      const channel = await google.colab.kernel.comms.open(id);\n",
              "      // Send a message to notify the kernel that we're ready.\n",
              "      channel.send({})\n",
              "\n",
              "      for await (const message of channel.messages) {\n",
              "        // Send a message to notify the kernel that we're ready.\n",
              "        channel.send({})\n",
              "        if (message.buffers) {\n",
              "          for (const buffer of message.buffers) {\n",
              "            buffers.push(buffer);\n",
              "            downloaded += buffer.byteLength;\n",
              "            progress.value = downloaded;\n",
              "          }\n",
              "        }\n",
              "      }\n",
              "      const blob = new Blob(buffers, {type: 'application/binary'});\n",
              "      const a = document.createElement('a');\n",
              "      a.href = window.URL.createObjectURL(blob);\n",
              "      a.download = filename;\n",
              "      div.appendChild(a);\n",
              "      a.click();\n",
              "      div.remove();\n",
              "    }\n",
              "  "
            ]
          },
          "metadata": {}
        },
        {
          "output_type": "display_data",
          "data": {
            "text/plain": [
              "<IPython.core.display.Javascript object>"
            ],
            "application/javascript": [
              "download(\"download_82618aac-de29-4492-b4fc-5506680d0392\", \"\", 4096)"
            ]
          },
          "metadata": {}
        }
      ]
    },
    {
      "cell_type": "markdown",
      "source": [
        "#Collaborator\n",
        "\n",
        "Md. Muhaiminul Kabir<br>\n",
        "[Github](https://github.com/Muhaiminul-Kabir)"
      ],
      "metadata": {
        "id": "HJF69F8cDLG5"
      }
    }
  ],
  "metadata": {
    "accelerator": "GPU",
    "colab": {
      "provenance": [],
      "include_colab_link": true
    },
    "kernelspec": {
      "display_name": "Python 3",
      "name": "python3"
    },
    "language_info": {
      "name": "python"
    }
  },
  "nbformat": 4,
  "nbformat_minor": 0
}